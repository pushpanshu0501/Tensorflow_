{
 "cells": [
  {
   "cell_type": "code",
   "execution_count": 1,
   "metadata": {},
   "outputs": [],
   "source": [
    "import numpy as np\n",
    "import matplotlib.pyplot as plt\n",
    "from mpl_toolkits.mplot3d import Axes3D"
   ]
  },
  {
   "cell_type": "markdown",
   "metadata": {},
   "source": [
    "# Inputs"
   ]
  },
  {
   "cell_type": "code",
   "execution_count": 2,
   "metadata": {},
   "outputs": [
    {
     "name": "stdout",
     "output_type": "stream",
     "text": [
      "(1000, 2)\n"
     ]
    }
   ],
   "source": [
    "observations = 1000\n",
    "xs = np.random.uniform(low=-10,high=10,size=(observations,1))\n",
    "zs = np.random.uniform(-10,10,(observations,1))\n",
    "\n",
    "inputs = np.column_stack((xs,zs))\n",
    "print (inputs.shape)"
   ]
  },
  {
   "cell_type": "markdown",
   "metadata": {},
   "source": [
    "# Targets"
   ]
  },
  {
   "cell_type": "code",
   "execution_count": 3,
   "metadata": {},
   "outputs": [],
   "source": [
    "noise = np.random.uniform(-1,1,(observations,1))\n",
    "targets = 2*xs - 3*zs + noise"
   ]
  },
  {
   "cell_type": "code",
   "execution_count": 4,
   "metadata": {},
   "outputs": [],
   "source": [
    "init_range = 0.1\n",
    "weights = np.random.uniform(-init_range,init_range,size=(2,1))\n",
    "bias = np.random.uniform(-init_range,init_range,1)"
   ]
  },
  {
   "cell_type": "code",
   "execution_count": 5,
   "metadata": {},
   "outputs": [],
   "source": [
    "learning_rate = 0.02\n"
   ]
  },
  {
   "cell_type": "markdown",
   "metadata": {},
   "source": [
    "# train "
   ]
  },
  {
   "cell_type": "code",
   "execution_count": 6,
   "metadata": {},
   "outputs": [
    {
     "name": "stdout",
     "output_type": "stream",
     "text": [
      "212.69171724458778\n",
      "27.933135044631378\n",
      "3.8284528756181064\n",
      "0.6564795061998618\n",
      "0.23595996729478838\n",
      "0.1798058125548357\n",
      "0.1722080190762269\n",
      "0.17111694161668758\n",
      "0.17090381732784354\n",
      "0.17081180020563344\n",
      "0.17073867490766478\n",
      "0.17067051231976338\n",
      "0.17060532845845383\n",
      "0.17054276257282813\n",
      "0.17048267800935957\n",
      "0.17042497206586507\n",
      "0.17036954999225729\n",
      "0.17031632131826502\n",
      "0.17026519922637873\n",
      "0.17021610034485268\n",
      "0.17016894460281304\n",
      "0.1701236550984586\n",
      "0.17008015797348225\n",
      "0.17003838229259968\n",
      "0.16999825992786538\n",
      "0.16995972544756807\n",
      "0.16992271600952472\n",
      "0.1698871712585975\n",
      "0.16985303322826587\n",
      "0.1698202462460947\n",
      "0.16978875684294395\n",
      "0.1697585136657702\n",
      "0.16972946739388053\n",
      "0.1697015706584998\n",
      "0.16967477796552144\n",
      "0.1696490456213159\n",
      "0.16962433166147436\n",
      "0.16960059578237327\n",
      "0.16957779927544703\n",
      "0.16955590496406206\n",
      "0.16953487714288856\n",
      "0.16951468151967283\n",
      "0.1694952851593122\n",
      "0.16947665643014573\n",
      "0.16945876495236809\n",
      "0.16944158154848654\n",
      "0.16942507819573815\n",
      "0.16940922798038974\n",
      "0.16939400505384747\n",
      "0.16937938459050256\n",
      "0.16936534274724552\n",
      "0.16935185662458274\n",
      "0.16933890422929196\n",
      "0.16932646443855595\n",
      "0.16931451696551442\n",
      "0.1693030423261813\n",
      "0.16929202180766922\n",
      "0.1692814374376731\n",
      "0.16927127195516029\n",
      "0.16926150878222176\n",
      "0.16925213199703662\n",
      "0.16924312630790633\n",
      "0.1692344770283173\n",
      "0.16922617005299037\n",
      "0.16921819183487719\n",
      "0.16921052936306819\n",
      "0.16920317014157385\n",
      "0.16919610216894676\n",
      "0.16918931391870912\n",
      "0.16918279432055566\n",
      "0.16917653274229993\n",
      "0.16917051897253527\n",
      "0.1691647432039821\n",
      "0.16915919601749418\n",
      "0.16915386836669813\n",
      "0.16914875156323964\n",
      "0.16914383726261548\n",
      "0.1691391174505647\n",
      "0.16913458442999926\n",
      "0.1691302308084512\n",
      "0.16912604948601728\n",
      "0.1691220336437803\n",
      "0.16911817673268886\n",
      "0.16911447246287709\n",
      "0.1691109147934071\n",
      "0.16910749792241767\n",
      "0.1691042162776617\n",
      "0.16910106450742005\n",
      "0.16909803747177352\n",
      "0.16909513023422026\n",
      "0.16909233805362583\n",
      "0.16908965637649095\n",
      "0.16908708082952603\n",
      "0.16908460721251878\n",
      "0.169082231491485\n",
      "0.1690799497920893\n",
      "0.16907775839332714\n",
      "0.16907565372145708\n",
      "0.1690736323441716\n",
      "0.1690716909650008\n"
     ]
    }
   ],
   "source": [
    "for i in range(100):\n",
    "    outputs = np.dot(inputs,weights) + bias\n",
    "    deltas = outputs - targets\n",
    "    \n",
    "    loss = np.sum(deltas**2)/2/observations\n",
    "    print(loss)\n",
    "    \n",
    "    delta_scaled = deltas/observations \n",
    "    weights = weights - learning_rate*np.dot(inputs.T,delta_scaled)\n",
    "    bias = bias - learning_rate*np.sum(delta_scaled)"
   ]
  },
  {
   "cell_type": "code",
   "execution_count": 7,
   "metadata": {},
   "outputs": [
    {
     "data": {
      "image/png": "[encoded data removed]",
      "text/plain": [
       "<Figure size 432x288 with 1 Axes>"
      ]
     },
     "metadata": {
      "needs_background": "light"
     },
     "output_type": "display_data"
    }
   ],
   "source": [
    "plt.plot(outputs,targets)\n",
    "plt.xlabel('outputs')\n",
    "plt.ylabel('targets')\n",
    "plt.show()\n"
   ]
  },
  {
   "cell_type": "code",
   "execution_count": null,
   "metadata": {},
   "outputs": [],
   "source": []
  }
 ],
 "metadata": {
  "kernelspec": {
   "display_name": "Python 3",
   "language": "python",
   "name": "python3"
  },
  "language_info": {
   "codemirror_mode": {
    "name": "ipython",
    "version": 3
   },
   "file_extension": ".py",
   "mimetype": "text/x-python",
   "name": "python",
   "nbconvert_exporter": "python",
   "pygments_lexer": "ipython3",
   "version": "3.8.1"
  }
 },
 "nbformat": 4,
 "nbformat_minor": 4
}
